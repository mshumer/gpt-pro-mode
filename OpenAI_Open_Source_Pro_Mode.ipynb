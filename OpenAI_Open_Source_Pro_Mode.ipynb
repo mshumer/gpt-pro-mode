{
  "cells": [
    {
      "cell_type": "markdown",
      "metadata": {
        "colab_type": "text",
        "id": "view-in-github"
      },
      "source": [
        "<a href=\"https://colab.research.google.com/github/mshumer/gpt-oss-pro-mode/blob/main/OpenAI_Open_Source_Pro_Mode.ipynb\" target=\"_parent\"><img src=\"https://colab.research.google.com/assets/colab-badge.svg\" alt=\"Open In Colab\"/></a>"
      ]
    },
    {
      "cell_type": "markdown",
      "metadata": {
        "id": "3LLlSvTtU0Y3"
      },
      "source": [
        "Made by Matt Shumer ([@mattshumer_](https://x.com/mattshumer_) on X)."
      ]
    },
    {
      "cell_type": "code",
      "execution_count": null,
      "metadata": {
        "cellView": "form",
        "colab": {
          "base_uri": "https://localhost:8080/"
        },
        "id": "dzWS8LaqUw3N",
        "outputId": "d4031e82-2131-4208-8f62-3923baca7cc4"
      },
      "outputs": [
        {
          "name": "stdout",
          "output_type": "stream",
          "text": [
            "\u001b[?25l   \u001b[90m━━━━━━━━━━━━━━━━━━━━━━━━━━━━━━━━━━━━━━━━\u001b[0m \u001b[32m0.0/131.1 kB\u001b[0m \u001b[31m?\u001b[0m eta \u001b[36m-:--:--\u001b[0m\r\u001b[2K   \u001b[90m━━━━━━━━━━━━━━━━━━━━━━━━━━━━━━━━━━━━━━━━\u001b[0m \u001b[32m131.1/131.1 kB\u001b[0m \u001b[31m3.8 MB/s\u001b[0m eta \u001b[36m0:00:00\u001b[0m\n",
            "\u001b[?25h"
          ]
        }
      ],
      "source": [
        "# @title Run this cell to set up Pro Mode\n",
        "!pip -q install groq\n",
        "\n",
        "from typing import List, Dict, Any\n",
        "import time, os\n",
        "import concurrent.futures as cf\n",
        "from groq import Groq, GroqError\n",
        "\n",
        "MODEL = \"openai/gpt-oss-120b\"\n",
        "MAX_COMPLETION_TOKENS = 30000\n",
        "\n",
        "def _one_completion(client: Groq, prompt: str, temperature: float) -> str:\n",
        "    \"\"\"Single non-streaming completion with simple retry/backoff.\"\"\"\n",
        "    delay = 0.5\n",
        "    for attempt in range(3):\n",
        "        try:\n",
        "            resp = client.chat.completions.create(\n",
        "                model=MODEL,\n",
        "                messages=[{\"role\": \"user\", \"content\": prompt}],\n",
        "                temperature=temperature,          # 0.9 for candidates; 0.2 for synthesis\n",
        "                max_completion_tokens=MAX_COMPLETION_TOKENS,\n",
        "                top_p=1,\n",
        "                stream=False,\n",
        "            )\n",
        "            return resp.choices[0].message.content\n",
        "        except GroqError as e:\n",
        "            if attempt == 2:\n",
        "                raise\n",
        "            time.sleep(delay)\n",
        "            delay *= 2\n",
        "\n",
        "def _build_synthesis_messages(candidates: List[str]) -> List[Dict[str, str]]:\n",
        "    numbered = \"\\n\\n\".join(\n",
        "        f\"<cand {i+1}>\\n{txt}\\n</cand {i+1}>\" for i, txt in enumerate(candidates)\n",
        "    )\n",
        "    system = (\n",
        "        \"You are an expert editor. Synthesize ONE best answer from the candidate \"\n",
        "        \"answers provided, merging strengths, correcting errors, and removing repetition. \"\n",
        "        \"Do not mention the candidates or the synthesis process. Be decisive and clear. Maintain the output structure where applicable.\"\n",
        "    )\n",
        "    user = (\n",
        "        f\"You are given {len(candidates)} candidate answers delimited by <cand i> tags.\\n\\n\"\n",
        "        f\"{numbered}\\n\\nReturn the single best final answer.\"\n",
        "    )\n",
        "    return [{\"role\": \"system\", \"content\": system},\n",
        "            {\"role\": \"user\", \"content\": user}]\n",
        "\n",
        "def pro_mode(prompt: str, n_runs: int, groq_api_key: str | None = None) -> Dict[str, Any]:\n",
        "    \"\"\"\n",
        "    Fan out n_runs parallel generations at T=0.9 and synthesize a final answer at T=0.2.\n",
        "    If groq_api_key is provided, it will be used; otherwise GROQ_API_KEY env var is used.\n",
        "    Returns: {\"final\": str, \"candidates\": List[str]}\n",
        "    \"\"\"\n",
        "    assert n_runs >= 1, \"n_runs must be >= 1\"\n",
        "    client = Groq(api_key=groq_api_key) if groq_api_key else Groq()\n",
        "\n",
        "    # Parallel candidate generations (threaded; Colab-friendly)\n",
        "    max_workers = min(n_runs, 16)\n",
        "    candidates: List[str] = [None] * n_runs  # preserve order\n",
        "    with cf.ThreadPoolExecutor(max_workers=max_workers) as ex:\n",
        "        fut_to_idx = {\n",
        "            ex.submit(_one_completion, client, prompt, 0.9): i\n",
        "            for i in range(n_runs)\n",
        "        }\n",
        "        for fut in cf.as_completed(fut_to_idx):\n",
        "            i = fut_to_idx[fut]\n",
        "            candidates[i] = fut.result()\n",
        "\n",
        "    # Synthesis pass\n",
        "    messages = _build_synthesis_messages(candidates)\n",
        "    final_resp = client.chat.completions.create(\n",
        "        model=MODEL,\n",
        "        messages=messages,\n",
        "        temperature=0.2,\n",
        "        max_completion_tokens=MAX_COMPLETION_TOKENS,\n",
        "        top_p=1,\n",
        "        stream=False,\n",
        "    )\n",
        "    final = final_resp.choices[0].message.content\n",
        "\n",
        "    return {\"final\": final, \"candidates\": candidates}\n"
      ]
    },
    {
      "cell_type": "code",
      "execution_count": null,
      "metadata": {
        "id": "OoBF5UbSVksz"
      },
      "outputs": [],
      "source": [
        "PROMPT = \"Explain self-play in reinforcement learning with a concrete example.\"\n",
        "NUMBER_OF_CANDIDATES = 5 # start with five, go up if you need more intelligence!\n",
        "GROQ_API_KEY = \"YOUR KEY HERE\"\n",
        "\n",
        "result = pro_mode(PROMPT, NUMBER_OF_CANDIDATES, groq_api_key=GROQ_API_KEY)\n",
        "\n",
        "print(\"\\n=== FINAL ===\\n\", result[\"final\"])\n",
        "# To inspect candidates:\n",
        "# for i, c in enumerate(result[\"candidates\"], 1): print(f\"\\n--- Candidate {i} ---\\n{c}\")"
      ]
    }
  ],
  "metadata": {
    "colab": {
      "authorship_tag": "ABX9TyMEoKFi+0SrPi/OXiwQ1i58",
      "include_colab_link": true,
      "provenance": []
    },
    "kernelspec": {
      "display_name": "Python 3",
      "name": "python3"
    },
    "language_info": {
      "name": "python"
    }
  },
  "nbformat": 4,
  "nbformat_minor": 0
}
