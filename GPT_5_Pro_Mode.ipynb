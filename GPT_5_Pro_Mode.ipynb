{
  "cells": [
    {
      "cell_type": "markdown",
      "metadata": {
        "colab_type": "text",
        "id": "view-in-github"
      },
      "source": [
        "<a href=\"https://colab.research.google.com/github/mshumer/gpt-pro-mode/blob/main/GPT_5_Pro_Mode.ipynb\" target=\"_parent\"><img src=\"https://colab.research.google.com/assets/colab-badge.svg\" alt=\"Open In Colab\"/></a>"
      ]
    },
    {
      "cell_type": "markdown",
      "metadata": {
        "id": "3LLlSvTtU0Y3"
      },
      "source": [
        "Made by Matt Shumer ([@mattshumer_](https://x.com/mattshumer_) on X). Part of the [gpt-pro-mode](https://github.com/mshumer/gpt-pro-mode) repo."
      ]
    },
    {
      "cell_type": "code",
      "execution_count": null,
      "metadata": {
        "cellView": "form",
        "id": "dzWS8LaqUw3N"
      },
      "outputs": [],
      "source": [
        "# @title Run To Set Up Pro Mode (OpenAI Responses API, GPT-5)\n",
        "!pip -q install openai\n",
        "\n",
        "from typing import List, Dict, Any\n",
        "import time, os, concurrent.futures as cf\n",
        "from openai import OpenAI\n",
        "from dotenv import load_dotenv\n",
        "\n",
        "MODEL = \"gpt-5\"\n",
        "MAX_OUTPUT_TOKENS = 30000\n",
        "\n",
        "def _extract_text(resp) -> str:\n",
        "    if hasattr(resp, \"output_text\") and resp.output_text:\n",
        "        return resp.output_text\n",
        "    parts: List[str] = []\n",
        "    for item in getattr(resp, \"output\", []) or []:\n",
        "        for c in getattr(item, \"content\", []) or []:\n",
        "            if getattr(c, \"type\", None) in (\"output_text\", \"text\"):\n",
        "                parts.append(getattr(c, \"text\", \"\"))\n",
        "    return \"\".join(parts).strip()\n",
        "\n",
        "def _one_completion(client: OpenAI, prompt: str, *, effort: str = \"high\") -> str:\n",
        "    delay = 0.5\n",
        "    for attempt in range(3):\n",
        "        try:\n",
        "            # NOTE: no temperature/top_p here; reasoning models ignore/ban them\n",
        "            resp = client.responses.create(\n",
        "                model=MODEL,\n",
        "                input=prompt,\n",
        "                max_output_tokens=MAX_OUTPUT_TOKENS,\n",
        "                # pass experimental/less-typed fields via extra_body\n",
        "                extra_body={\"reasoning\": {\"effort\": effort}}\n",
        "            )\n",
        "            return _extract_text(resp)\n",
        "        except Exception:\n",
        "            if attempt == 2: raise\n",
        "            time.sleep(delay); delay *= 2\n",
        "\n",
        "def _build_synthesis_inputs(cands: List[str]) -> tuple[str, str]:\n",
        "    numbered = \"\\n\\n\".join(f\"<cand {i+1}>\\n{t}\\n</cand {i+1}>\" for i, t in enumerate(cands))\n",
        "    instructions = (\"You are an expert editor. Synthesize ONE best answer from the \"\n",
        "                    \"candidate answers provided, merging strengths, correcting errors, \"\n",
        "                    \"and removing repetition. Do not mention the candidates or the process.\")\n",
        "    user = f\"You are given {len(cands)} candidate answers delimited by <cand i> tags.\\n\\n{numbered}\\n\\nReturn the single best final answer.\"\n",
        "    return instructions, user\n",
        "\n",
        "def pro_mode(prompt: str, n_runs: int, openai_api_key: str | None = None) -> Dict[str, Any]:\n",
        "    assert n_runs >= 1\n",
        "    if openai_api_key: os.environ[\"OPENAI_API_KEY\"] = openai_api_key\n",
        "    client = OpenAI()\n",
        "\n",
        "    # Fan out: keep some diversity by lightly varying *instructions*, not temperature\n",
        "    STYLE_JITTER = [\n",
        "        \"Start with the concrete example, then generalize.\",\n",
        "        \"Use a numbered outline and keep sentences ≤20 words.\",\n",
        "        \"Compare two approaches and conclude with tradeoffs.\",\n",
        "        \"Explain for a grad-level RL reader; be concise.\",\n",
        "        \"Teach via a step-by-step walkthrough, then summarize.\"\n",
        "    ]\n",
        "    prompts = [f\"{STYLE_JITTER[i % len(STYLE_JITTER)]}\\n\\n{prompt}\" for i in range(n_runs)]\n",
        "\n",
        "    cands: List[str] = [\"\"] * n_runs\n",
        "    with cf.ThreadPoolExecutor(max_workers=min(n_runs, 16)) as ex:\n",
        "        fut2i = {ex.submit(_one_completion, client, p, effort=\"high\"): i for i, p in enumerate(prompts)}\n",
        "        for fut in cf.as_completed(fut2i):\n",
        "            cands[fut2i[fut]] = fut.result()\n",
        "\n",
        "    instr, user = _build_synthesis_inputs(cands)\n",
        "    final_resp = client.responses.create(\n",
        "        model=MODEL,\n",
        "        instructions=instr,\n",
        "        input=user,\n",
        "        max_output_tokens=MAX_OUTPUT_TOKENS,\n",
        "        extra_body={\"reasoning\": {\"effort\": \"high\"}}  # spend more thinking on the merge\n",
        "    )\n",
        "    return {\"final\": _extract_text(final_resp), \"candidates\": cands}\n",
        "\n",
        "\n"
      ]
    },
    {
      "cell_type": "code",
      "execution_count": null,
      "metadata": {
        "id": "OoBF5UbSVksz"
      },
      "outputs": [],
      "source": [
        "# Load environment variables from .env file\n",
        "load_dotenv()\n",
        "\n",
        "# Get API key from environment\n",
        "if not os.getenv(\"OPENAI_API_KEY\"):\n",
        "    raise ValueError(\"OPENAI_API_KEY environment variable is not set\")\n",
        "\n",
        "PROMPT = \"Explain self-play in reinforcement learning with a concrete example.\"\n",
        "NUMBER_OF_CANDIDATES = 5\n",
        "\n",
        "try:\n",
        "    result = pro_mode(PROMPT, NUMBER_OF_CANDIDATES, openai_api_key=os.getenv(\"OPENAI_API_KEY\"))\n",
        "    print(\"\\n=== FINAL ===\\n\", result[\"final\"])\n",
        "    print(\"\\n=== CANDIDATES ===\")\n",
        "    for i, c in enumerate(result[\"candidates\"], 1):\n",
        "        print(f\"\\n--- Candidate {i} ---\\n{c}\")\n",
        "except Exception as e:\n",
        "    print(f\"\\nError occurred: {type(e).__name__}\")\n",
        "    print(f\"Error details: {str(e)}\")\n",
        "\n",
        "\n"
      ]
    }
  ],
  "metadata": {
    "colab": {
      "authorship_tag": "ABX9TyPuSsEO/jRgEgk6xVqY9VRT",
      "include_colab_link": true,
      "provenance": []
    },
    "kernelspec": {
      "display_name": "Python 3",
      "name": "python3"
    },
    "language_info": {
      "name": "python"
    }
  },
  "nbformat": 4,
  "nbformat_minor": 0
}
